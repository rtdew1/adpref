{
 "cells": [
  {
   "cell_type": "markdown",
   "metadata": {},
   "source": [
    "## Set-up"
   ]
  },
  {
   "cell_type": "markdown",
   "metadata": {},
   "source": [
    "Imports:"
   ]
  },
  {
   "cell_type": "code",
   "execution_count": 1,
   "metadata": {},
   "outputs": [],
   "source": [
    "import os\n",
    "\n",
    "os.environ['OPENBLAS_NUM_THREADS'] = '2'\n",
    "os.environ['MKL_NUM_THREADS'] = '2'\n",
    "os.environ[\"ADAPTIVE_PREFERENCE_ENV\"] = \"dev\"\n",
    "\n",
    "import numpy as np\n",
    "import pandas as pd\n",
    "pd.options.mode.chained_assignment = None\n",
    "from matplotlib import pyplot as plt\n",
    "from tqdm import trange\n",
    "from scipy.optimize import minimize\n",
    "import re\n"
   ]
  },
  {
   "cell_type": "code",
   "execution_count": 2,
   "metadata": {},
   "outputs": [],
   "source": [
    "\n",
    "# Step 1: Load the Z data\n",
    "data_path = os.path.expanduser(\"~/ryandew_adaptive_preference/RA/backend/data/scaled_vgg_pca10_dresses.csv\")\n",
    "raw_data = pd.read_csv(data_path)\n",
    "\n",
    "def create_pairs(dresses):\n",
    "    dresses_cols = [col for col in dresses.columns if re.compile(r\"E\\d+\").match(col)]  # Columns like E1, E2, ...\n",
    "    indexed_dresses = dresses.reset_index(drop=False)  # dresses dataframe with indices ranging from 0 to N\n",
    "    # Artificial column for catesian product. Pandas version is too low to use how=\"cross\"\n",
    "    indexed_dresses[\"_merge_key\"] = 0\n",
    "    merged_all_dresses = pd.merge(indexed_dresses, indexed_dresses, on=\"_merge_key\", how=\"inner\", suffixes=(\"_1\", \"_2\"))\n",
    "    merged_filtered_dresses = merged_all_dresses[merged_all_dresses[\"index_1\"] < merged_all_dresses[\"index_2\"]]\n",
    "    for ix, col in enumerate(dresses_cols, 1):\n",
    "        merged_filtered_dresses[f\"Diff{ix}\"] = merged_filtered_dresses[f\"{col}_1\"] - merged_filtered_dresses[f\"{col}_2\"]\n",
    "    return merged_filtered_dresses[\n",
    "        [\"Item_ID_1\", \"Item_ID_2\", \"URL_1\", \"URL_2\"] + [f\"Diff{ix}\" for ix, _ in enumerate(dresses_cols, 1)]\n",
    "    ].reset_index(drop=True)\n",
    "\n",
    "all_items = create_pairs(raw_data)\n",
    "embedding_cols_start = 'Diff1'\n",
    "z_all = all_items.loc[:, embedding_cols_start:].values\n",
    "\n",
    "\n",
    "# Step 2: Import the PrefOptim object:\n",
    "os.chdir(os.path.expanduser(\"~/ryandew_adaptive_preference/RA/results_analysis/reoptimize/\"))\n",
    "from og_reopt import PrefOptim\n",
    "\n",
    "# Step 3: Import useful analysis functions:\n",
    "os.chdir(os.path.expanduser(\"~/ryandew_adaptive_preference/RA/results_analysis/reoptimize/\"))\n",
    "from utils import *\n",
    "\n",
    "\n",
    "os.chdir(os.path.expanduser(\"~/ryandew_adaptive_preference/RA/results_analysis/reoptimize/\"))\n",
    "og_train = pd.read_csv(os.path.expanduser('~/Dropbox/1_proj/urbn/results/binary_mpc_results/analysis-7.0-knn1-binary-mpc-None/train_df.csv'))\n",
    "og_test = pd.read_csv(os.path.expanduser('~/Dropbox/1_proj/urbn/results/binary_mpc_results/analysis-7.0-knn1-binary-mpc-None/test_df.csv'))"
   ]
  },
  {
   "cell_type": "markdown",
   "metadata": {},
   "source": [
    "Useful functions:"
   ]
  },
  {
   "cell_type": "code",
   "execution_count": 3,
   "metadata": {},
   "outputs": [],
   "source": [
    "# Extract training\n",
    "def extract_train(i):\n",
    "    train_i = og_train.iloc[i]\n",
    "    z_shown = z_all[np_str(train_i.items_shown)]\n",
    "    # Note to self: ratings is the original ratings, no negation\n",
    "    ratings = np_str(train_i.ratings)\n",
    "    return z_shown, ratings\n",
    "\n",
    "def extract_test(i):\n",
    "    # Extract test\n",
    "    test_i = og_test.iloc[i]\n",
    "    random_test_i = eval(test_i['random_test_predictions_ratings'])\n",
    "    test_items = list(random_test_i.keys())\n",
    "    old_preds = np.array([a for (a,b) in list(random_test_i.values())])\n",
    "    test_ratings = np.array([b for (a,b) in list(random_test_i.values())])\n",
    "    return test_items, test_ratings, old_preds\n",
    "\n",
    "def extract_sym(i):\n",
    "    z_shown, ratings = extract_train(i)\n",
    "    # Compute symmetric z/ratings\n",
    "    sym_z = np.vstack([z_shown, -z_shown])\n",
    "    sym_ratings = np.append(ratings, -ratings)\n",
    "    return sym_z, sym_ratings\n",
    "\n",
    "def fit_comparison_dict(test_ratings, pred_ratings1, pred_ratings2, index=0):\n",
    "    return {\n",
    "        'old_cor': cor(test_ratings, pred_ratings1),\n",
    "        'new_cor': cor(test_ratings, pred_ratings2),\n",
    "        'old_sign_acc': sign_acc(test_ratings, pred_ratings1),\n",
    "        'new_sign_acc': sign_acc(test_ratings, pred_ratings2),\n",
    "        'old_rmse': rmse(test_ratings, pred_ratings1),\n",
    "        'new_rmse': rmse(test_ratings, pred_ratings2),\n",
    "    }\n",
    "\n",
    "def hyper_comparison_dict(model1, model2, index=0):\n",
    "    return {\n",
    "        'old_noise': model1.hypers['noise'],\n",
    "        'old_amp': model1.hypers['amp'],\n",
    "        'old_ls': model1.hypers['ls'],\n",
    "        'new_noise': model2.hypers['noise'],\n",
    "        'new_amp': model2.hypers['amp'],\n",
    "        'new_ls': model2.hypers['ls'],\n",
    "    }\n"
   ]
  },
  {
   "cell_type": "markdown",
   "metadata": {},
   "source": [
    "## Optimal-aggregate-hypers"
   ]
  },
  {
   "cell_type": "markdown",
   "metadata": {},
   "source": [
    "### Optimal-using-RMSE"
   ]
  },
  {
   "cell_type": "code",
   "execution_count": 4,
   "metadata": {},
   "outputs": [],
   "source": [
    "def average_rmse(hypers_list, z_train_list, ratings_train_list, z_test_list, ratings_test_list):\n",
    "    # Compute average rmse across all people\n",
    "    tot_rmse = 0\n",
    "    N = len(z_train_list)\n",
    "    for i in range(N):\n",
    "        prefs = PrefOptim(\n",
    "            z_shown = z_train_list[i], \n",
    "            ratings = ratings_train_list[i]\n",
    "        )\n",
    "        prefs.hypers = {'noise': hypers_list[0], 'amp': hypers_list[1], 'ls': hypers_list[2]}\n",
    "        pred = prefs.compute_utility(z_test_list[i])\n",
    "        tot_rmse += rmse(pred, ratings_test_list[i])\n",
    "    return tot_rmse / N\n",
    "\n",
    "def optimize_average_rmse(pars0, z_train_list, ratings_train_list, z_test_list, ratings_test_list):\n",
    "    bnds = ((1e-6, 100), (1e-6, 100), (1e-6, 100))\n",
    "    opt_out = minimize(\n",
    "        average_rmse, \n",
    "        pars0, \n",
    "        args=(z_train_list, ratings_train_list, z_test_list, ratings_test_list), \n",
    "        method=\"L-BFGS-B\", \n",
    "        bounds=bnds\n",
    "    )\n",
    "    return {\"noise\": opt_out.x[0], \"amp\": opt_out.x[1], \"ls\": opt_out.x[2]}\n",
    "\n",
    "# Compute optimal aggregate RMSE:\n",
    "z_train_list = []\n",
    "ratings_train_list = []\n",
    "z_test_list = []\n",
    "ratings_test_list = []\n",
    "for i in range(og_train.shape[0]):\n",
    "    z_sym, ratings_sym = extract_sym(i)\n",
    "    test_items, test_ratings, old_preds = extract_test(i)\n",
    "    z_train_list.append(z_sym)\n",
    "    ratings_train_list.append(ratings_sym)\n",
    "    z_test_list.append(z_all[test_items])\n",
    "    ratings_test_list.append(test_ratings)\n"
   ]
  },
  {
   "cell_type": "code",
   "execution_count": 5,
   "metadata": {},
   "outputs": [],
   "source": [
    "# agg_hypers = optimize_average_rmse(\n",
    "#     pars0=[0.1,1,0.5], \n",
    "#     z_train_list=z_train_list, \n",
    "#     ratings_train_list=ratings_train_list, \n",
    "#     z_test_list=z_test_list, \n",
    "#     ratings_test_list=ratings_test_list\n",
    "# )"
   ]
  },
  {
   "cell_type": "code",
   "execution_count": 6,
   "metadata": {},
   "outputs": [],
   "source": [
    "agg_hypers = {'noise': 6.88756714098321, 'amp': 7.148767946480032, 'ls': 5.357894316288602}"
   ]
  },
  {
   "cell_type": "code",
   "execution_count": 7,
   "metadata": {},
   "outputs": [
    {
     "data": {
      "text/plain": [
       "0.4897990867574739"
      ]
     },
     "execution_count": 7,
     "metadata": {},
     "output_type": "execute_result"
    }
   ],
   "source": [
    "average_rmse(\n",
    "    [agg_hypers['noise'], agg_hypers['amp'], agg_hypers['ls']], \n",
    "    z_train_list, \n",
    "    ratings_train_list, \n",
    "    z_test_list, \n",
    "    ratings_test_list\n",
    ")"
   ]
  },
  {
   "cell_type": "code",
   "execution_count": 8,
   "metadata": {},
   "outputs": [],
   "source": [
    "def pred(i, hypers=None):\n",
    "    # Symmetric training\n",
    "    sym_z, sym_ratings = extract_sym(i)\n",
    "\n",
    "    # Make predictions under new model + sym settings\n",
    "    new_prefs = PrefOptim(z_shown = sym_z, ratings = sym_ratings)\n",
    "    if hypers is not None:\n",
    "        new_prefs.hypers = hypers\n",
    "    return new_prefs.compute_utility(z_all[test_items])\n"
   ]
  },
  {
   "cell_type": "code",
   "execution_count": 9,
   "metadata": {},
   "outputs": [
    {
     "data": {
      "text/plain": [
       "array([-0.00765583,  0.09131709,  0.11682866, -0.11992919, -0.03460138,\n",
       "        0.06080502,  0.05859709, -0.02329211,  0.13875908,  0.27389191])"
      ]
     },
     "execution_count": 9,
     "metadata": {},
     "output_type": "execute_result"
    }
   ],
   "source": [
    "\n",
    "pred(5, agg_hypers)"
   ]
  },
  {
   "cell_type": "markdown",
   "metadata": {},
   "source": [
    "### Optimal-using-acc"
   ]
  },
  {
   "cell_type": "code",
   "execution_count": 10,
   "metadata": {},
   "outputs": [],
   "source": [
    "def neg_average_acc(hypers_list, z_train_list, ratings_train_list, z_test_list, ratings_test_list):\n",
    "    tot_acc = 0\n",
    "    N = len(z_train_list)\n",
    "    for i in range(N):\n",
    "        prefs = PrefOptim(\n",
    "            z_shown = z_train_list[i], \n",
    "            ratings = ratings_train_list[i]\n",
    "        )\n",
    "        prefs.hypers = {'noise': hypers_list[0], 'amp': hypers_list[1], 'ls': hypers_list[2]}\n",
    "        pred = prefs.compute_utility(z_test_list[i])\n",
    "        tot_acc += sign_acc(pred, ratings_test_list[i])\n",
    "    return -tot_acc / N\n",
    "\n",
    "def optimize_average_acc(pars0, z_train_list, ratings_train_list, z_test_list, ratings_test_list):\n",
    "    bnds = ((1e-6, 100), (1e-6, 100), (1e-6, 100))\n",
    "    opt_out = minimize(\n",
    "        neg_average_acc, \n",
    "        pars0, \n",
    "        args=(z_train_list, ratings_train_list, z_test_list, ratings_test_list), \n",
    "        method=\"L-BFGS-B\", \n",
    "        bounds=bnds\n",
    "    )\n",
    "    return {\"noise\": opt_out.x[0], \"amp\": opt_out.x[1], \"ls\": opt_out.x[2]}\n",
    "\n",
    "# Compute optimal aggregate RMSE:\n",
    "z_train_list = []\n",
    "ratings_train_list = []\n",
    "z_test_list = []\n",
    "ratings_test_list = []\n",
    "for i in range(og_train.shape[0]):\n",
    "    z_sym, ratings_sym = extract_sym(i)\n",
    "    test_items, test_ratings, old_preds = extract_test(i)\n",
    "    z_train_list.append(z_sym)\n",
    "    ratings_train_list.append(ratings_sym)\n",
    "    z_test_list.append(z_all[test_items])\n",
    "    ratings_test_list.append(test_ratings)\n"
   ]
  },
  {
   "cell_type": "code",
   "execution_count": 14,
   "metadata": {},
   "outputs": [],
   "source": [
    "agg_hypers_acc = optimize_average_acc(\n",
    "    pars0=[0.1,0.1,0.1], \n",
    "    z_train_list=z_train_list, \n",
    "    ratings_train_list=ratings_train_list, \n",
    "    z_test_list=z_test_list, \n",
    "    ratings_test_list=ratings_test_list\n",
    ")"
   ]
  },
  {
   "cell_type": "code",
   "execution_count": 15,
   "metadata": {},
   "outputs": [
    {
     "data": {
      "text/plain": [
       "{'noise': 0.1, 'amp': 0.1, 'ls': 0.5}"
      ]
     },
     "execution_count": 15,
     "metadata": {},
     "output_type": "execute_result"
    }
   ],
   "source": [
    "agg_hypers_acc"
   ]
  },
  {
   "cell_type": "code",
   "execution_count": 16,
   "metadata": {},
   "outputs": [
    {
     "data": {
      "text/plain": [
       "0.4952702702702704"
      ]
     },
     "execution_count": 16,
     "metadata": {},
     "output_type": "execute_result"
    }
   ],
   "source": [
    "-neg_average_acc([0.0001,1e-10,1e10], z_train_list, ratings_train_list, z_test_list, ratings_test_list)"
   ]
  },
  {
   "cell_type": "code",
   "execution_count": 127,
   "metadata": {},
   "outputs": [
    {
     "data": {
      "text/plain": [
       "array([ 2.35708513e-09,  2.05170363e-08, -7.78199440e-09, -6.46654144e-10,\n",
       "       -4.05372274e-09, -1.17180751e-08,  6.33636235e-09,  8.83542258e-09,\n",
       "        2.05534828e-09, -3.69887803e-08])"
      ]
     },
     "execution_count": 127,
     "metadata": {},
     "output_type": "execute_result"
    }
   ],
   "source": [
    "pred(0, {'noise': 0.0001, 'amp': 0.001, 'ls': 20000})"
   ]
  },
  {
   "cell_type": "code",
   "execution_count": 120,
   "metadata": {},
   "outputs": [
    {
     "data": {
      "text/plain": [
       "0.5277027027027028"
      ]
     },
     "execution_count": 120,
     "metadata": {},
     "output_type": "execute_result"
    }
   ],
   "source": [
    "nir_acc = 0\n",
    "N = len(z_train_list)\n",
    "for i in range(N):\n",
    "    nir_acc += sign_acc(0.5, ratings_test_list[i])\n",
    "nir_acc / N"
   ]
  },
  {
   "cell_type": "code",
   "execution_count": 123,
   "metadata": {},
   "outputs": [
    {
     "data": {
      "text/plain": [
       "0.7"
      ]
     },
     "execution_count": 123,
     "metadata": {},
     "output_type": "execute_result"
    }
   ],
   "source": [
    "sign_acc(0.5, ratings_test_list[i])"
   ]
  },
  {
   "cell_type": "markdown",
   "metadata": {},
   "source": [
    "So it seems that accuracy doesn't really need good hyperparameters to perform well...?"
   ]
  },
  {
   "cell_type": "markdown",
   "metadata": {},
   "source": [
    "### Optimal-using-cor"
   ]
  },
  {
   "cell_type": "code",
   "execution_count": 17,
   "metadata": {},
   "outputs": [],
   "source": [
    "def neg_average_cor(hypers_list, z_train_list, ratings_train_list, z_test_list, ratings_test_list):\n",
    "    tot = 0\n",
    "    N = len(z_train_list)\n",
    "    for i in range(N):\n",
    "        prefs = PrefOptim(\n",
    "            z_shown = z_train_list[i], \n",
    "            ratings = ratings_train_list[i]\n",
    "        )\n",
    "        prefs.hypers = {'noise': hypers_list[0], 'amp': hypers_list[1], 'ls': hypers_list[2]}\n",
    "        pred = prefs.compute_utility(z_test_list[i])\n",
    "        cor_i = cor(pred, ratings_test_list[i])\n",
    "        if np.isnan(cor_i) or np.isinf(cor_i):\n",
    "            cor_i = 0\n",
    "        tot += cor_i\n",
    "    return -tot / N\n",
    "\n",
    "def optimize_average_cor(pars0, z_train_list, ratings_train_list, z_test_list, ratings_test_list):\n",
    "    bnds = ((1e-6, 100), (1e-6, 100), (1e-6, 100))\n",
    "    opt_out = minimize(\n",
    "        neg_average_cor, \n",
    "        pars0, \n",
    "        args=(z_train_list, ratings_train_list, z_test_list, ratings_test_list), \n",
    "        method=\"L-BFGS-B\", \n",
    "        bounds=bnds\n",
    "    )\n",
    "    return {\"noise\": opt_out.x[0], \"amp\": opt_out.x[1], \"ls\": opt_out.x[2]}\n",
    "\n",
    "# Compute optimal aggregate RMSE:\n",
    "z_train_list = []\n",
    "ratings_train_list = []\n",
    "z_test_list = []\n",
    "ratings_test_list = []\n",
    "for i in range(og_train.shape[0]):\n",
    "    z_sym, ratings_sym = extract_sym(i)\n",
    "    test_items, test_ratings, old_preds = extract_test(i)\n",
    "    z_train_list.append(z_sym)\n",
    "    ratings_train_list.append(ratings_sym)\n",
    "    z_test_list.append(z_all[test_items])\n",
    "    ratings_test_list.append(test_ratings)\n"
   ]
  },
  {
   "cell_type": "code",
   "execution_count": 18,
   "metadata": {},
   "outputs": [
    {
     "name": "stderr",
     "output_type": "stream",
     "text": [
      "/home/ryandew/miniconda3/envs/adpref/lib/python3.7/site-packages/scipy/stats/stats.py:4023: PearsonRConstantInputWarning: An input array is constant; the correlation coefficient is not defined.\n",
      "  warnings.warn(PearsonRConstantInputWarning())\n",
      "/home/ryandew/miniconda3/envs/adpref/lib/python3.7/site-packages/scipy/stats/stats.py:4023: PearsonRConstantInputWarning: An input array is constant; the correlation coefficient is not defined.\n",
      "  warnings.warn(PearsonRConstantInputWarning())\n",
      "/home/ryandew/miniconda3/envs/adpref/lib/python3.7/site-packages/scipy/stats/stats.py:4023: PearsonRConstantInputWarning: An input array is constant; the correlation coefficient is not defined.\n",
      "  warnings.warn(PearsonRConstantInputWarning())\n",
      "/home/ryandew/miniconda3/envs/adpref/lib/python3.7/site-packages/scipy/stats/stats.py:4023: PearsonRConstantInputWarning: An input array is constant; the correlation coefficient is not defined.\n",
      "  warnings.warn(PearsonRConstantInputWarning())\n",
      "/home/ryandew/miniconda3/envs/adpref/lib/python3.7/site-packages/scipy/stats/stats.py:4023: PearsonRConstantInputWarning: An input array is constant; the correlation coefficient is not defined.\n",
      "  warnings.warn(PearsonRConstantInputWarning())\n",
      "/home/ryandew/miniconda3/envs/adpref/lib/python3.7/site-packages/scipy/stats/stats.py:4023: PearsonRConstantInputWarning: An input array is constant; the correlation coefficient is not defined.\n",
      "  warnings.warn(PearsonRConstantInputWarning())\n",
      "/home/ryandew/miniconda3/envs/adpref/lib/python3.7/site-packages/scipy/stats/stats.py:4023: PearsonRConstantInputWarning: An input array is constant; the correlation coefficient is not defined.\n",
      "  warnings.warn(PearsonRConstantInputWarning())\n",
      "/home/ryandew/miniconda3/envs/adpref/lib/python3.7/site-packages/scipy/stats/stats.py:4023: PearsonRConstantInputWarning: An input array is constant; the correlation coefficient is not defined.\n",
      "  warnings.warn(PearsonRConstantInputWarning())\n",
      "/home/ryandew/miniconda3/envs/adpref/lib/python3.7/site-packages/scipy/stats/stats.py:4023: PearsonRConstantInputWarning: An input array is constant; the correlation coefficient is not defined.\n",
      "  warnings.warn(PearsonRConstantInputWarning())\n",
      "/home/ryandew/miniconda3/envs/adpref/lib/python3.7/site-packages/scipy/stats/stats.py:4023: PearsonRConstantInputWarning: An input array is constant; the correlation coefficient is not defined.\n",
      "  warnings.warn(PearsonRConstantInputWarning())\n",
      "/home/ryandew/miniconda3/envs/adpref/lib/python3.7/site-packages/scipy/stats/stats.py:4023: PearsonRConstantInputWarning: An input array is constant; the correlation coefficient is not defined.\n",
      "  warnings.warn(PearsonRConstantInputWarning())\n",
      "/home/ryandew/miniconda3/envs/adpref/lib/python3.7/site-packages/scipy/stats/stats.py:4023: PearsonRConstantInputWarning: An input array is constant; the correlation coefficient is not defined.\n",
      "  warnings.warn(PearsonRConstantInputWarning())\n",
      "/home/ryandew/miniconda3/envs/adpref/lib/python3.7/site-packages/scipy/stats/stats.py:4023: PearsonRConstantInputWarning: An input array is constant; the correlation coefficient is not defined.\n",
      "  warnings.warn(PearsonRConstantInputWarning())\n",
      "/home/ryandew/miniconda3/envs/adpref/lib/python3.7/site-packages/scipy/stats/stats.py:4023: PearsonRConstantInputWarning: An input array is constant; the correlation coefficient is not defined.\n",
      "  warnings.warn(PearsonRConstantInputWarning())\n",
      "/home/ryandew/miniconda3/envs/adpref/lib/python3.7/site-packages/scipy/stats/stats.py:4023: PearsonRConstantInputWarning: An input array is constant; the correlation coefficient is not defined.\n",
      "  warnings.warn(PearsonRConstantInputWarning())\n",
      "/home/ryandew/miniconda3/envs/adpref/lib/python3.7/site-packages/scipy/stats/stats.py:4023: PearsonRConstantInputWarning: An input array is constant; the correlation coefficient is not defined.\n",
      "  warnings.warn(PearsonRConstantInputWarning())\n",
      "/home/ryandew/miniconda3/envs/adpref/lib/python3.7/site-packages/scipy/stats/stats.py:4023: PearsonRConstantInputWarning: An input array is constant; the correlation coefficient is not defined.\n",
      "  warnings.warn(PearsonRConstantInputWarning())\n",
      "/home/ryandew/miniconda3/envs/adpref/lib/python3.7/site-packages/scipy/stats/stats.py:4023: PearsonRConstantInputWarning: An input array is constant; the correlation coefficient is not defined.\n",
      "  warnings.warn(PearsonRConstantInputWarning())\n",
      "/home/ryandew/miniconda3/envs/adpref/lib/python3.7/site-packages/scipy/stats/stats.py:4023: PearsonRConstantInputWarning: An input array is constant; the correlation coefficient is not defined.\n",
      "  warnings.warn(PearsonRConstantInputWarning())\n",
      "/home/ryandew/miniconda3/envs/adpref/lib/python3.7/site-packages/scipy/stats/stats.py:4023: PearsonRConstantInputWarning: An input array is constant; the correlation coefficient is not defined.\n",
      "  warnings.warn(PearsonRConstantInputWarning())\n",
      "/home/ryandew/miniconda3/envs/adpref/lib/python3.7/site-packages/scipy/stats/stats.py:4023: PearsonRConstantInputWarning: An input array is constant; the correlation coefficient is not defined.\n",
      "  warnings.warn(PearsonRConstantInputWarning())\n",
      "/home/ryandew/miniconda3/envs/adpref/lib/python3.7/site-packages/scipy/stats/stats.py:4023: PearsonRConstantInputWarning: An input array is constant; the correlation coefficient is not defined.\n",
      "  warnings.warn(PearsonRConstantInputWarning())\n",
      "/home/ryandew/miniconda3/envs/adpref/lib/python3.7/site-packages/scipy/stats/stats.py:4023: PearsonRConstantInputWarning: An input array is constant; the correlation coefficient is not defined.\n",
      "  warnings.warn(PearsonRConstantInputWarning())\n",
      "/home/ryandew/miniconda3/envs/adpref/lib/python3.7/site-packages/scipy/stats/stats.py:4023: PearsonRConstantInputWarning: An input array is constant; the correlation coefficient is not defined.\n",
      "  warnings.warn(PearsonRConstantInputWarning())\n",
      "/home/ryandew/miniconda3/envs/adpref/lib/python3.7/site-packages/scipy/stats/stats.py:4023: PearsonRConstantInputWarning: An input array is constant; the correlation coefficient is not defined.\n",
      "  warnings.warn(PearsonRConstantInputWarning())\n",
      "/home/ryandew/miniconda3/envs/adpref/lib/python3.7/site-packages/scipy/stats/stats.py:4023: PearsonRConstantInputWarning: An input array is constant; the correlation coefficient is not defined.\n",
      "  warnings.warn(PearsonRConstantInputWarning())\n",
      "/home/ryandew/miniconda3/envs/adpref/lib/python3.7/site-packages/scipy/stats/stats.py:4023: PearsonRConstantInputWarning: An input array is constant; the correlation coefficient is not defined.\n",
      "  warnings.warn(PearsonRConstantInputWarning())\n",
      "/home/ryandew/miniconda3/envs/adpref/lib/python3.7/site-packages/scipy/stats/stats.py:4023: PearsonRConstantInputWarning: An input array is constant; the correlation coefficient is not defined.\n",
      "  warnings.warn(PearsonRConstantInputWarning())\n",
      "/home/ryandew/miniconda3/envs/adpref/lib/python3.7/site-packages/scipy/stats/stats.py:4023: PearsonRConstantInputWarning: An input array is constant; the correlation coefficient is not defined.\n",
      "  warnings.warn(PearsonRConstantInputWarning())\n",
      "/home/ryandew/miniconda3/envs/adpref/lib/python3.7/site-packages/scipy/stats/stats.py:4023: PearsonRConstantInputWarning: An input array is constant; the correlation coefficient is not defined.\n",
      "  warnings.warn(PearsonRConstantInputWarning())\n",
      "/home/ryandew/miniconda3/envs/adpref/lib/python3.7/site-packages/scipy/stats/stats.py:4023: PearsonRConstantInputWarning: An input array is constant; the correlation coefficient is not defined.\n",
      "  warnings.warn(PearsonRConstantInputWarning())\n",
      "/home/ryandew/miniconda3/envs/adpref/lib/python3.7/site-packages/scipy/stats/stats.py:4023: PearsonRConstantInputWarning: An input array is constant; the correlation coefficient is not defined.\n",
      "  warnings.warn(PearsonRConstantInputWarning())\n",
      "/home/ryandew/miniconda3/envs/adpref/lib/python3.7/site-packages/scipy/stats/stats.py:4023: PearsonRConstantInputWarning: An input array is constant; the correlation coefficient is not defined.\n",
      "  warnings.warn(PearsonRConstantInputWarning())\n",
      "/home/ryandew/miniconda3/envs/adpref/lib/python3.7/site-packages/scipy/stats/stats.py:4023: PearsonRConstantInputWarning: An input array is constant; the correlation coefficient is not defined.\n",
      "  warnings.warn(PearsonRConstantInputWarning())\n",
      "/home/ryandew/miniconda3/envs/adpref/lib/python3.7/site-packages/scipy/stats/stats.py:4023: PearsonRConstantInputWarning: An input array is constant; the correlation coefficient is not defined.\n",
      "  warnings.warn(PearsonRConstantInputWarning())\n",
      "/home/ryandew/miniconda3/envs/adpref/lib/python3.7/site-packages/scipy/stats/stats.py:4023: PearsonRConstantInputWarning: An input array is constant; the correlation coefficient is not defined.\n",
      "  warnings.warn(PearsonRConstantInputWarning())\n",
      "/home/ryandew/miniconda3/envs/adpref/lib/python3.7/site-packages/scipy/stats/stats.py:4023: PearsonRConstantInputWarning: An input array is constant; the correlation coefficient is not defined.\n",
      "  warnings.warn(PearsonRConstantInputWarning())\n",
      "/home/ryandew/miniconda3/envs/adpref/lib/python3.7/site-packages/scipy/stats/stats.py:4023: PearsonRConstantInputWarning: An input array is constant; the correlation coefficient is not defined.\n",
      "  warnings.warn(PearsonRConstantInputWarning())\n",
      "/home/ryandew/miniconda3/envs/adpref/lib/python3.7/site-packages/scipy/stats/stats.py:4023: PearsonRConstantInputWarning: An input array is constant; the correlation coefficient is not defined.\n",
      "  warnings.warn(PearsonRConstantInputWarning())\n",
      "/home/ryandew/miniconda3/envs/adpref/lib/python3.7/site-packages/scipy/stats/stats.py:4023: PearsonRConstantInputWarning: An input array is constant; the correlation coefficient is not defined.\n",
      "  warnings.warn(PearsonRConstantInputWarning())\n",
      "/home/ryandew/miniconda3/envs/adpref/lib/python3.7/site-packages/scipy/stats/stats.py:4023: PearsonRConstantInputWarning: An input array is constant; the correlation coefficient is not defined.\n",
      "  warnings.warn(PearsonRConstantInputWarning())\n",
      "/home/ryandew/miniconda3/envs/adpref/lib/python3.7/site-packages/scipy/stats/stats.py:4023: PearsonRConstantInputWarning: An input array is constant; the correlation coefficient is not defined.\n",
      "  warnings.warn(PearsonRConstantInputWarning())\n",
      "/home/ryandew/miniconda3/envs/adpref/lib/python3.7/site-packages/scipy/stats/stats.py:4023: PearsonRConstantInputWarning: An input array is constant; the correlation coefficient is not defined.\n",
      "  warnings.warn(PearsonRConstantInputWarning())\n",
      "/home/ryandew/miniconda3/envs/adpref/lib/python3.7/site-packages/scipy/stats/stats.py:4023: PearsonRConstantInputWarning: An input array is constant; the correlation coefficient is not defined.\n",
      "  warnings.warn(PearsonRConstantInputWarning())\n",
      "/home/ryandew/miniconda3/envs/adpref/lib/python3.7/site-packages/scipy/stats/stats.py:4023: PearsonRConstantInputWarning: An input array is constant; the correlation coefficient is not defined.\n",
      "  warnings.warn(PearsonRConstantInputWarning())\n",
      "/home/ryandew/miniconda3/envs/adpref/lib/python3.7/site-packages/scipy/stats/stats.py:4023: PearsonRConstantInputWarning: An input array is constant; the correlation coefficient is not defined.\n",
      "  warnings.warn(PearsonRConstantInputWarning())\n",
      "/home/ryandew/miniconda3/envs/adpref/lib/python3.7/site-packages/scipy/stats/stats.py:4023: PearsonRConstantInputWarning: An input array is constant; the correlation coefficient is not defined.\n",
      "  warnings.warn(PearsonRConstantInputWarning())\n",
      "/home/ryandew/miniconda3/envs/adpref/lib/python3.7/site-packages/scipy/stats/stats.py:4023: PearsonRConstantInputWarning: An input array is constant; the correlation coefficient is not defined.\n",
      "  warnings.warn(PearsonRConstantInputWarning())\n",
      "/home/ryandew/miniconda3/envs/adpref/lib/python3.7/site-packages/scipy/stats/stats.py:4023: PearsonRConstantInputWarning: An input array is constant; the correlation coefficient is not defined.\n",
      "  warnings.warn(PearsonRConstantInputWarning())\n",
      "/home/ryandew/miniconda3/envs/adpref/lib/python3.7/site-packages/scipy/stats/stats.py:4023: PearsonRConstantInputWarning: An input array is constant; the correlation coefficient is not defined.\n",
      "  warnings.warn(PearsonRConstantInputWarning())\n",
      "/home/ryandew/miniconda3/envs/adpref/lib/python3.7/site-packages/scipy/stats/stats.py:4023: PearsonRConstantInputWarning: An input array is constant; the correlation coefficient is not defined.\n",
      "  warnings.warn(PearsonRConstantInputWarning())\n",
      "/home/ryandew/miniconda3/envs/adpref/lib/python3.7/site-packages/scipy/stats/stats.py:4023: PearsonRConstantInputWarning: An input array is constant; the correlation coefficient is not defined.\n",
      "  warnings.warn(PearsonRConstantInputWarning())\n",
      "/home/ryandew/miniconda3/envs/adpref/lib/python3.7/site-packages/scipy/stats/stats.py:4023: PearsonRConstantInputWarning: An input array is constant; the correlation coefficient is not defined.\n",
      "  warnings.warn(PearsonRConstantInputWarning())\n",
      "/home/ryandew/miniconda3/envs/adpref/lib/python3.7/site-packages/scipy/stats/stats.py:4023: PearsonRConstantInputWarning: An input array is constant; the correlation coefficient is not defined.\n",
      "  warnings.warn(PearsonRConstantInputWarning())\n",
      "/home/ryandew/miniconda3/envs/adpref/lib/python3.7/site-packages/scipy/stats/stats.py:4023: PearsonRConstantInputWarning: An input array is constant; the correlation coefficient is not defined.\n",
      "  warnings.warn(PearsonRConstantInputWarning())\n",
      "/home/ryandew/miniconda3/envs/adpref/lib/python3.7/site-packages/scipy/stats/stats.py:4023: PearsonRConstantInputWarning: An input array is constant; the correlation coefficient is not defined.\n",
      "  warnings.warn(PearsonRConstantInputWarning())\n",
      "/home/ryandew/miniconda3/envs/adpref/lib/python3.7/site-packages/scipy/stats/stats.py:4023: PearsonRConstantInputWarning: An input array is constant; the correlation coefficient is not defined.\n",
      "  warnings.warn(PearsonRConstantInputWarning())\n",
      "/home/ryandew/miniconda3/envs/adpref/lib/python3.7/site-packages/scipy/stats/stats.py:4023: PearsonRConstantInputWarning: An input array is constant; the correlation coefficient is not defined.\n",
      "  warnings.warn(PearsonRConstantInputWarning())\n",
      "/home/ryandew/miniconda3/envs/adpref/lib/python3.7/site-packages/scipy/stats/stats.py:4023: PearsonRConstantInputWarning: An input array is constant; the correlation coefficient is not defined.\n",
      "  warnings.warn(PearsonRConstantInputWarning())\n",
      "/home/ryandew/miniconda3/envs/adpref/lib/python3.7/site-packages/scipy/stats/stats.py:4023: PearsonRConstantInputWarning: An input array is constant; the correlation coefficient is not defined.\n",
      "  warnings.warn(PearsonRConstantInputWarning())\n",
      "/home/ryandew/miniconda3/envs/adpref/lib/python3.7/site-packages/scipy/stats/stats.py:4023: PearsonRConstantInputWarning: An input array is constant; the correlation coefficient is not defined.\n",
      "  warnings.warn(PearsonRConstantInputWarning())\n",
      "/home/ryandew/miniconda3/envs/adpref/lib/python3.7/site-packages/scipy/stats/stats.py:4023: PearsonRConstantInputWarning: An input array is constant; the correlation coefficient is not defined.\n",
      "  warnings.warn(PearsonRConstantInputWarning())\n",
      "/home/ryandew/miniconda3/envs/adpref/lib/python3.7/site-packages/scipy/stats/stats.py:4023: PearsonRConstantInputWarning: An input array is constant; the correlation coefficient is not defined.\n",
      "  warnings.warn(PearsonRConstantInputWarning())\n",
      "/home/ryandew/miniconda3/envs/adpref/lib/python3.7/site-packages/scipy/stats/stats.py:4023: PearsonRConstantInputWarning: An input array is constant; the correlation coefficient is not defined.\n",
      "  warnings.warn(PearsonRConstantInputWarning())\n",
      "/home/ryandew/miniconda3/envs/adpref/lib/python3.7/site-packages/scipy/stats/stats.py:4023: PearsonRConstantInputWarning: An input array is constant; the correlation coefficient is not defined.\n",
      "  warnings.warn(PearsonRConstantInputWarning())\n",
      "/home/ryandew/miniconda3/envs/adpref/lib/python3.7/site-packages/scipy/stats/stats.py:4023: PearsonRConstantInputWarning: An input array is constant; the correlation coefficient is not defined.\n",
      "  warnings.warn(PearsonRConstantInputWarning())\n",
      "/home/ryandew/miniconda3/envs/adpref/lib/python3.7/site-packages/scipy/stats/stats.py:4023: PearsonRConstantInputWarning: An input array is constant; the correlation coefficient is not defined.\n",
      "  warnings.warn(PearsonRConstantInputWarning())\n",
      "/home/ryandew/miniconda3/envs/adpref/lib/python3.7/site-packages/scipy/stats/stats.py:4023: PearsonRConstantInputWarning: An input array is constant; the correlation coefficient is not defined.\n",
      "  warnings.warn(PearsonRConstantInputWarning())\n",
      "/home/ryandew/miniconda3/envs/adpref/lib/python3.7/site-packages/scipy/stats/stats.py:4023: PearsonRConstantInputWarning: An input array is constant; the correlation coefficient is not defined.\n",
      "  warnings.warn(PearsonRConstantInputWarning())\n",
      "/home/ryandew/miniconda3/envs/adpref/lib/python3.7/site-packages/scipy/stats/stats.py:4023: PearsonRConstantInputWarning: An input array is constant; the correlation coefficient is not defined.\n",
      "  warnings.warn(PearsonRConstantInputWarning())\n",
      "/home/ryandew/miniconda3/envs/adpref/lib/python3.7/site-packages/scipy/stats/stats.py:4023: PearsonRConstantInputWarning: An input array is constant; the correlation coefficient is not defined.\n",
      "  warnings.warn(PearsonRConstantInputWarning())\n",
      "/home/ryandew/miniconda3/envs/adpref/lib/python3.7/site-packages/scipy/stats/stats.py:4023: PearsonRConstantInputWarning: An input array is constant; the correlation coefficient is not defined.\n",
      "  warnings.warn(PearsonRConstantInputWarning())\n",
      "/home/ryandew/miniconda3/envs/adpref/lib/python3.7/site-packages/scipy/stats/stats.py:4023: PearsonRConstantInputWarning: An input array is constant; the correlation coefficient is not defined.\n",
      "  warnings.warn(PearsonRConstantInputWarning())\n",
      "/home/ryandew/miniconda3/envs/adpref/lib/python3.7/site-packages/scipy/stats/stats.py:4023: PearsonRConstantInputWarning: An input array is constant; the correlation coefficient is not defined.\n",
      "  warnings.warn(PearsonRConstantInputWarning())\n",
      "/home/ryandew/miniconda3/envs/adpref/lib/python3.7/site-packages/scipy/stats/stats.py:4023: PearsonRConstantInputWarning: An input array is constant; the correlation coefficient is not defined.\n",
      "  warnings.warn(PearsonRConstantInputWarning())\n",
      "/home/ryandew/miniconda3/envs/adpref/lib/python3.7/site-packages/scipy/stats/stats.py:4023: PearsonRConstantInputWarning: An input array is constant; the correlation coefficient is not defined.\n",
      "  warnings.warn(PearsonRConstantInputWarning())\n"
     ]
    }
   ],
   "source": [
    "agg_hypers_cor = optimize_average_cor(\n",
    "    pars0=[0.1,1,0.5], \n",
    "    z_train_list=z_train_list, \n",
    "    ratings_train_list=ratings_train_list, \n",
    "    z_test_list=z_test_list, \n",
    "    ratings_test_list=ratings_test_list\n",
    ")"
   ]
  },
  {
   "cell_type": "code",
   "execution_count": 19,
   "metadata": {},
   "outputs": [
    {
     "data": {
      "text/plain": [
       "{'noise': 4.105707235134857, 'amp': 2.594658008010263, 'ls': 1.158389347265231}"
      ]
     },
     "execution_count": 19,
     "metadata": {},
     "output_type": "execute_result"
    }
   ],
   "source": [
    "agg_hypers_cor"
   ]
  },
  {
   "cell_type": "code",
   "execution_count": 20,
   "metadata": {},
   "outputs": [
    {
     "name": "stderr",
     "output_type": "stream",
     "text": [
      "/home/ryandew/miniconda3/envs/adpref/lib/python3.7/site-packages/scipy/stats/stats.py:4023: PearsonRConstantInputWarning: An input array is constant; the correlation coefficient is not defined.\n",
      "  warnings.warn(PearsonRConstantInputWarning())\n"
     ]
    },
    {
     "data": {
      "text/plain": [
       "0.17922362404167494"
      ]
     },
     "execution_count": 20,
     "metadata": {},
     "output_type": "execute_result"
    }
   ],
   "source": [
    "-neg_average_cor(list(agg_hypers_cor.values()), z_train_list, ratings_train_list, z_test_list, ratings_test_list)"
   ]
  },
  {
   "cell_type": "code",
   "execution_count": 138,
   "metadata": {},
   "outputs": [
    {
     "name": "stderr",
     "output_type": "stream",
     "text": [
      "/Users/ryandew/miniconda3/envs/adp-analyze/lib/python3.11/site-packages/scipy/stats/_stats_py.py:4427: ConstantInputWarning: An input array is constant; the correlation coefficient is not defined.\n",
      "  warnings.warn(stats.ConstantInputWarning(msg))\n"
     ]
    },
    {
     "data": {
      "text/plain": [
       "0.14764889660231312"
      ]
     },
     "execution_count": 138,
     "metadata": {},
     "output_type": "execute_result"
    }
   ],
   "source": [
    "-neg_average_cor([0.1,1,0.5], z_train_list, ratings_train_list, z_test_list, ratings_test_list)"
   ]
  },
  {
   "cell_type": "code",
   "execution_count": 21,
   "metadata": {},
   "outputs": [
    {
     "name": "stderr",
     "output_type": "stream",
     "text": [
      "/home/ryandew/miniconda3/envs/adpref/lib/python3.7/site-packages/scipy/stats/stats.py:4023: PearsonRConstantInputWarning: An input array is constant; the correlation coefficient is not defined.\n",
      "  warnings.warn(PearsonRConstantInputWarning())\n"
     ]
    },
    {
     "name": "stdout",
     "output_type": "stream",
     "text": [
      "rmse optimized cor:  0.17688684812100539\n"
     ]
    },
    {
     "name": "stderr",
     "output_type": "stream",
     "text": [
      "/home/ryandew/miniconda3/envs/adpref/lib/python3.7/site-packages/scipy/stats/stats.py:4023: PearsonRConstantInputWarning: An input array is constant; the correlation coefficient is not defined.\n",
      "  warnings.warn(PearsonRConstantInputWarning())\n"
     ]
    },
    {
     "name": "stdout",
     "output_type": "stream",
     "text": [
      "cor optimized cor:  0.17922362404167494\n",
      "rmse optimized rmse:  0.4897990867574739\n",
      "cor optimized rmse:  0.49263141083193346\n",
      "rmse optimized acc:  0.5777027027027029\n",
      "cor optimized acc:  0.5797297297297302\n"
     ]
    }
   ],
   "source": [
    "print(\"rmse optimized cor: \", -neg_average_cor(list(agg_hypers.values()), z_train_list, ratings_train_list, z_test_list, ratings_test_list))\n",
    "print(\"cor optimized cor: \", -neg_average_cor(list(agg_hypers_cor.values()), z_train_list, ratings_train_list, z_test_list, ratings_test_list))\n",
    "print(\"rmse optimized rmse: \", average_rmse(list(agg_hypers.values()), z_train_list, ratings_train_list, z_test_list, ratings_test_list))\n",
    "print(\"cor optimized rmse: \", average_rmse(list(agg_hypers_cor.values()), z_train_list, ratings_train_list, z_test_list, ratings_test_list))\n",
    "print(\"rmse optimized acc: \", -neg_average_acc(list(agg_hypers.values()), z_train_list, ratings_train_list, z_test_list, ratings_test_list))\n",
    "print(\"cor optimized acc: \", -neg_average_acc(list(agg_hypers_cor.values()), z_train_list, ratings_train_list, z_test_list, ratings_test_list))"
   ]
  },
  {
   "cell_type": "code",
   "execution_count": 28,
   "metadata": {},
   "outputs": [],
   "source": [
    "# What about the old agg hypers?\n",
    "old_hypers = {'noise': 0.38621058403938996,\n",
    " 'amp': 1.905899429488762,\n",
    " 'ls': 3.577134415736614}"
   ]
  },
  {
   "cell_type": "code",
   "execution_count": 29,
   "metadata": {},
   "outputs": [
    {
     "data": {
      "text/plain": [
       "0.5581081081081083"
      ]
     },
     "execution_count": 29,
     "metadata": {},
     "output_type": "execute_result"
    }
   ],
   "source": [
    "-neg_average_acc(list(old_hypers.values()), z_train_list, ratings_train_list, z_test_list, ratings_test_list)"
   ]
  },
  {
   "cell_type": "code",
   "execution_count": 22,
   "metadata": {},
   "outputs": [
    {
     "data": {
      "text/plain": [
       "{'noise': 4.105707235134857, 'amp': 2.594658008010263, 'ls': 1.158389347265231}"
      ]
     },
     "execution_count": 22,
     "metadata": {},
     "output_type": "execute_result"
    }
   ],
   "source": [
    "agg_hypers_cor"
   ]
  },
  {
   "cell_type": "code",
   "execution_count": 23,
   "metadata": {},
   "outputs": [
    {
     "data": {
      "text/plain": [
       "{'noise': 6.88756714098321, 'amp': 7.148767946480032, 'ls': 5.357894316288602}"
      ]
     },
     "execution_count": 23,
     "metadata": {},
     "output_type": "execute_result"
    }
   ],
   "source": [
    "agg_hypers"
   ]
  },
  {
   "cell_type": "code",
   "execution_count": 26,
   "metadata": {},
   "outputs": [
    {
     "data": {
      "text/plain": [
       "array([-0.23958414, -0.21016397, -0.22159125,  0.05438086, -0.06152196,\n",
       "        0.03963397, -0.0778076 ,  0.17049908, -0.11361434, -0.17351468])"
      ]
     },
     "execution_count": 26,
     "metadata": {},
     "output_type": "execute_result"
    }
   ],
   "source": [
    "pred(i, hypers = agg_hypers_cor)"
   ]
  },
  {
   "cell_type": "code",
   "execution_count": null,
   "metadata": {},
   "outputs": [],
   "source": [
    "pred(i, hypers = agg_hypers_cor)"
   ]
  }
 ],
 "metadata": {
  "kernelspec": {
   "display_name": "adp-analyze",
   "language": "python",
   "name": "python3"
  },
  "language_info": {
   "codemirror_mode": {
    "name": "ipython",
    "version": 3
   },
   "file_extension": ".py",
   "mimetype": "text/x-python",
   "name": "python",
   "nbconvert_exporter": "python",
   "pygments_lexer": "ipython3",
   "version": "3.7.16"
  },
  "orig_nbformat": 4
 },
 "nbformat": 4,
 "nbformat_minor": 2
}
